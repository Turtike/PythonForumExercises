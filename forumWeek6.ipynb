{
 "cells": [
  {
   "cell_type": "markdown",
   "metadata": {},
   "source": [
    "Programming Exercise Forum Week 6\n",
    "Exercise 1\n",
    "Given the following dictionary:"
   ]
  },
  {
   "cell_type": "code",
   "execution_count": 12,
   "metadata": {},
   "outputs": [],
   "source": [
    "inventory = {\n",
    " 'gold' : 500,\n",
    " 'pouch' : ['flint', 'twine', 'gemstone'],\n",
    " 'backpack' : ['xylophone','dagger', 'bedroll','bread loaf']\n",
    "}"
   ]
  },
  {
   "cell_type": "markdown",
   "metadata": {},
   "source": [
    "Try to do the following:\n",
    "• Add a key to inventory called 'pocket'.\n",
    "• Set the value of 'pocket' to be a list consisting of the strings 'seashell', 'strange berry', and 'lint'.\n",
    "• .sort()the items in the list stored under the 'backpack' key.\n",
    "• Then .remove('dagger') from the list of items stored under the 'backpack' key.\n",
    "• Add 50 to the number stored under the 'gold' key."
   ]
  },
  {
   "cell_type": "code",
   "execution_count": 13,
   "metadata": {},
   "outputs": [],
   "source": [
    "inventory['pocket'] = ['seashell', 'strange berry', 'lint']\n",
    "inventory['backpack'].sort()\n",
    "inventory['backpack'].remove('dagger')\n",
    "inventory['gold'] += 50"
   ]
  },
  {
   "cell_type": "markdown",
   "metadata": {},
   "source": [
    "Exercise 2\n",
    "Follow the steps bellow: -Create a new dictionary called prices using {} format like the example above.\n",
    "• Put these values in your prices dictionary:\n",
    "\"banana\": 4,\n",
    "\"apple\": 2,\n",
    "\"orange\": 1.5,\n",
    "\"pear\": 3\n",
    "• Loop through each key in prices. For each key, print out the key along with its price and stock\n",
    "information. Print the answer in the following format:\n",
    "apple\n",
    "price: 2\n",
    "stock: 0\n",
    "• Let's determine how much money you would make if you sold all of your food.\n",
    "o Create a variable called total and set it to zero.\n",
    "o Loop through the prices dictionaries. For each key in prices, multiply the number in prices by the\n",
    "number in stock. Print that value into the console and then add it to total.\n",
    "o Finally, outside your loop, print total."
   ]
  },
  {
   "cell_type": "code",
   "execution_count": 14,
   "metadata": {},
   "outputs": [
    {
     "name": "stdout",
     "output_type": "stream",
     "text": [
      "banana\n",
      "price: 4\n",
      "stock: 6\n",
      "apple\n",
      "price: 2\n",
      "stock: 0\n",
      "orange\n",
      "price: 1.5\n",
      "stock: 32\n",
      "pear\n",
      "price: 3\n",
      "stock: 15\n",
      "117.0\n"
     ]
    }
   ],
   "source": [
    "stock = {\n",
    " \"banana\": 6,\n",
    " \"apple\": 0,\n",
    " \"orange\": 32,\n",
    " \"pear\": 15\n",
    "}\n",
    "prices = {\n",
    "    \"banana\": 4,\n",
    "    \"apple\": 2,\n",
    "    \"orange\": 1.5,\n",
    "    \"pear\": 3\n",
    "}\n",
    "for key in prices.keys():\n",
    "    print(key)\n",
    "    print(\"price:\", prices[key])\n",
    "    print(\"stock:\", stock[key])\n",
    "\n",
    "total = 0\n",
    "for key in prices.keys():\n",
    "    total += prices[key]*stock[key]\n",
    "print(total)"
   ]
  },
  {
   "cell_type": "markdown",
   "metadata": {},
   "source": [
    "Exercise 3\n",
    "Follow the steps:\n",
    "• First, make a list called groceries with the values \"banana\",\"orange\", and \"apple\".\n",
    "• Define these two dictionaries:\n",
    "stock = {\n",
    " \"banana\": 6,\n",
    " \"apple\": 0,\n",
    " \"orange\": 32,\n",
    " \"pear\": 15\n",
    "}\n",
    "prices = {\n",
    " \"banana\": 4,\n",
    " \"apple\": 2,\n",
    " \"orange\": 1.5,\n",
    " \"pear\": 3\n",
    "}\n",
    "• Define a function compute_bill that takes one argument food as input. In the function, create a\n",
    "variable total with an initial value of zero. For each item in the food list, add the price of that item to\n",
    "total. Finally, return the total. Ignore whether the item you're billing for is in stock. Note that your\n",
    "function should work for any food list.\n",
    "• Make the following changes to your compute_bill function:\n",
    "o While you loop through each item of food, only add the price of the item to total if the item's\n",
    "stock count is greater than zero.\n",
    "o If the item is in stock and after you add the price to the total, subtract one from the item's stock\n",
    "count."
   ]
  },
  {
   "cell_type": "code",
   "execution_count": 15,
   "metadata": {},
   "outputs": [
    {
     "name": "stdout",
     "output_type": "stream",
     "text": [
      "5.5\n"
     ]
    }
   ],
   "source": [
    "stock = {\n",
    " \"banana\": 6,\n",
    " \"apple\": 0,\n",
    " \"orange\": 32,\n",
    " \"pear\": 15\n",
    "}\n",
    "prices = {\n",
    " \"banana\": 4,\n",
    " \"apple\": 2,\n",
    " \"orange\": 1.5,\n",
    " \"pear\": 3\n",
    "}\n",
    "\n",
    "def compute_bill(food):\n",
    "    total = 0\n",
    "    for item in food:\n",
    "        if stock[item] > 0:\n",
    "            total += prices[item]\n",
    "            stock[item] -= 1\n",
    "    return total\n",
    "\n",
    "print(compute_bill([\"banana\", \"orange\", \"apple\"]))"
   ]
  },
  {
   "cell_type": "markdown",
   "metadata": {},
   "source": [
    "Exercise 4\n",
    "This exercise is a bit more complicate. We will review all about list and dictionaries. The aim of this exercise is\n",
    "to make a gradebook for teacher's students.\n",
    "Try to follow the steps:\n",
    "• Create three dictionaries: eren, mikasa, and armin.\n",
    "• Give each dictionary the keys \"name\", \"homework\", \"quizzes\", and \"tests\". Have the \"name\" key be the\n",
    "name of the student (that is, eren’s name should be \"Eren\") and the other keys should be an empty list.\n",
    "• Now copy this code:\n",
    "eren = {\n",
    " \"name\": \"Eren\",\n",
    " \"homework\": [90.0,97.0,75.0,92.0],\n",
    " \"quizzes\": [88.0,40.0,94.0],\n",
    " \"tests\": [75.0,90.0]\n",
    "}\n",
    "mikasa = {\n",
    "\"name\": \"Mikasa\",\n",
    "\"homework\": [100.0, 92.0, 98.0, 100.0],\n",
    "\"quizzes\": [82.0, 83.0, 91.0],\n",
    "\"tests\": [89.0, 97.0]\n",
    "}\n",
    "armin = {\n",
    "\"name\": \"Armin\",\n",
    "\"homework\": [0.0, 87.0, 75.0, 22.0],\n",
    "\"quizzes\": [0.0, 75.0, 78.0],\n",
    "\"tests\": [100.0, 100.0]\n",
    "}\n",
    "• Below your code, create a list called students that contains eren, mikasa, and armin.\n",
    "• for each student in your students list, print out that student's data, as follows:\n",
    "o print the student's name\n",
    "o print the student's homework\n",
    "o print the student's quizzes\n",
    "o print the student's tests"
   ]
  },
  {
   "cell_type": "code",
   "execution_count": 16,
   "metadata": {},
   "outputs": [
    {
     "name": "stdout",
     "output_type": "stream",
     "text": [
      "Eren\n",
      "[90.0, 97.0, 75.0, 92.0]\n",
      "[88.0, 40.0, 94.0]\n",
      "[75.0, 90.0]\n",
      "Mikasa\n",
      "[100.0, 92.0, 98.0, 100.0]\n",
      "[82.0, 83.0, 91.0]\n",
      "[89.0, 97.0]\n",
      "Armin\n",
      "[0.0, 87.0, 75.0, 22.0]\n",
      "[0.0, 75.0, 78.0]\n",
      "[100.0, 100.0]\n"
     ]
    }
   ],
   "source": [
    "eren = {\n",
    " \"name\": \"Eren\",\n",
    " \"homework\": [],\n",
    " \"quizzes\": [],\n",
    " \"tests\": []\n",
    "}\n",
    "mikasa = {\n",
    "\"name\": \"Mikasa\",\n",
    "\"homework\": [],\n",
    "\"quizzes\": [],\n",
    "\"tests\": []\n",
    "}\n",
    "armin = {\n",
    "\"name\": \"Armin\",\n",
    "\"homework\": [],\n",
    "\"quizzes\": [],\n",
    "\"tests\": []\n",
    "}\n",
    "\n",
    "eren = {\n",
    " \"name\": \"Eren\",\n",
    " \"homework\": [90.0,97.0,75.0,92.0],\n",
    " \"quizzes\": [88.0,40.0,94.0],\n",
    " \"tests\": [75.0,90.0]\n",
    "}\n",
    "mikasa = {\n",
    "\"name\": \"Mikasa\",\n",
    "\"homework\": [100.0, 92.0, 98.0, 100.0],\n",
    "\"quizzes\": [82.0, 83.0, 91.0],\n",
    "\"tests\": [89.0, 97.0]\n",
    "}\n",
    "armin = {\n",
    "\"name\": \"Armin\",\n",
    "\"homework\": [0.0, 87.0, 75.0, 22.0],\n",
    "\"quizzes\": [0.0, 75.0, 78.0],\n",
    "\"tests\": [100.0, 100.0]\n",
    "}\n",
    "\n",
    "students = [eren, mikasa, armin]\n",
    "for student in students:\n",
    "    print(student[\"name\"])\n",
    "    print(student[\"homework\"])\n",
    "    print(student[\"quizzes\"])\n",
    "    print(student[\"tests\"])"
   ]
  },
  {
   "cell_type": "markdown",
   "metadata": {},
   "source": [
    "Write a function average that takes a list of numbers and returns the average.\n",
    "o Define a function called average that has one argument, numbers.\n",
    "o Inside that function, call the built-in sum() function with the numbers list as a parameter. Store\n",
    "the result in a variable called total.\n",
    "o Use float() to convert total and store the result in total.\n",
    "o Divide total by the length of the numbers list. Use the built-in len() function to calculate that.\n",
    "o Return that result."
   ]
  },
  {
   "cell_type": "code",
   "execution_count": 19,
   "metadata": {},
   "outputs": [
    {
     "name": "stdout",
     "output_type": "stream",
     "text": [
      "4.25\n"
     ]
    }
   ],
   "source": [
    "def average(numbers):\n",
    "    total = float(sum(numbers))\n",
    "    return total/len(numbers)\n",
    "\n",
    "print(average([2, 5, 4, 6]))"
   ]
  },
  {
   "cell_type": "markdown",
   "metadata": {},
   "source": [
    "Write a function called get_average that takes a student dictionary (like eren, mikasa, or armin) as input\n",
    "and returns his/her weighted average.\n",
    "o Define a function called get_average that takes one argument called student.\n",
    "o Make a variable homework that stores the average() of student[\"homework\"].\n",
    "o Repeat step 2 for \"quizzes\" and \"tests\".\n",
    "o Multiply the 3 averages by their weights and return the sum of those three. Homework is 10%,\n",
    "quizzes are 30% and tests are 60%."
   ]
  },
  {
   "cell_type": "code",
   "execution_count": 22,
   "metadata": {},
   "outputs": [
    {
     "name": "stdout",
     "output_type": "stream",
     "text": [
      "91.14999999999999\n"
     ]
    }
   ],
   "source": [
    "def get_average(student):\n",
    "    homework = average(student[\"homework\"])\n",
    "    quizzes = average(student[\"quizzes\"])\n",
    "    tests = average(student[\"tests\"])\n",
    "    return homework*0.1 + quizzes*0.3 + tests*0.6\n",
    "\n",
    "print(get_average(mikasa))"
   ]
  },
  {
   "cell_type": "markdown",
   "metadata": {},
   "source": [
    "Define a new function called get_letter_grade that has one argument called score. Expect score to be a\n",
    "number.\n",
    "o Inside your function, test score using a chain of if: / elif: / else: statements, like so:\n",
    "o If score is 90 or above: return \"A\"\n",
    "o Else if score is 80 or above: return \"B\"\n",
    "o Else if score is 70 or above: return \"C\"\n",
    "o Else if score is 60 or above: return \"D\"\n",
    "o Otherwise: return \"F\"\n",
    "o Finally, test your function. Call your get_letter_grade function with the result\n",
    "of get_average(lloyd). Print the resulting letter grade."
   ]
  },
  {
   "cell_type": "code",
   "execution_count": 23,
   "metadata": {},
   "outputs": [
    {
     "name": "stdout",
     "output_type": "stream",
     "text": [
      "A\n"
     ]
    }
   ],
   "source": [
    "def get_letter_grade(score):\n",
    "    if score >= 90:\n",
    "        return \"A\"\n",
    "    elif score >= 80:\n",
    "        return \"B\"\n",
    "    elif score >= 70:\n",
    "        return \"C\"\n",
    "    elif score >= 60:\n",
    "        return \"D\"\n",
    "    else:\n",
    "        return \"F\"\n",
    "\n",
    "lloyd = {\n",
    "\"name\": \"Lloyd\",\n",
    "\"homework\": [100.0, 87.0, 75.0, 69.0],\n",
    "\"quizzes\": [90.0, 75.0, 99.0],\n",
    "\"tests\": [100.0, 99.0]\n",
    "}\n",
    "\n",
    "print(get_letter_grade(get_average(lloyd)))"
   ]
  },
  {
   "cell_type": "markdown",
   "metadata": {},
   "source": [
    "Define a function called get_class_average that has one argument, students. You can expect students\n",
    "to be a list containing your three students.\n",
    "o First, make an empty list called results.\n",
    "o For each student item in the class list, calculate get_average(student) and then call\n",
    "results.append() with that result.\n",
    "o Finally, return the result of calling average() with results.\n",
    "• Finally, print out the result of calling get_class_averagewith your students list. Your students should be\n",
    "[eren, mikasa, armin].\n",
    "• Then, print the result of get_letter_grade for the class's average."
   ]
  },
  {
   "cell_type": "code",
   "execution_count": 26,
   "metadata": {},
   "outputs": [
    {
     "name": "stdout",
     "output_type": "stream",
     "text": [
      "[80.55, 91.14999999999999, 79.9]\n",
      "B\n"
     ]
    }
   ],
   "source": [
    "def get_class_average(students):\n",
    "    results = []\n",
    "    for student in students:\n",
    "        results.append(get_average(student))\n",
    "    return results\n",
    "\n",
    "class_averages = get_class_average(students)\n",
    "print(class_averages)\n",
    "print(get_letter_grade(average(class_averages)))"
   ]
  }
 ],
 "metadata": {
  "kernelspec": {
   "display_name": "Python 3.10.8 64-bit (microsoft store)",
   "language": "python",
   "name": "python3"
  },
  "language_info": {
   "codemirror_mode": {
    "name": "ipython",
    "version": 3
   },
   "file_extension": ".py",
   "mimetype": "text/x-python",
   "name": "python",
   "nbconvert_exporter": "python",
   "pygments_lexer": "ipython3",
   "version": "3.10.8"
  },
  "orig_nbformat": 4,
  "vscode": {
   "interpreter": {
    "hash": "7e09721073e436e35d84ed4cdbbeb045311bd476b44317739da864ee086bb1be"
   }
  }
 },
 "nbformat": 4,
 "nbformat_minor": 2
}
